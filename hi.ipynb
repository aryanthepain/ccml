{
 "cells": [
  {
   "cell_type": "markdown",
   "metadata": {},
   "source": [
    "# Installing required libraries and files"
   ]
  },
  {
   "cell_type": "code",
   "execution_count": null,
   "metadata": {},
   "outputs": [],
   "source": [
    "import pandas as pd\n",
    "import numpy as np\n",
    "import matplotlib.pyplot as plt\n",
    "import seaborn as sns\n",
    "import warnings\n",
    "warnings.filterwarnings('ignore')\n",
    "%matplotlib inline"
   ]
  },
  {
   "cell_type": "code",
   "execution_count": null,
   "metadata": {},
   "outputs": [],
   "source": [
    "df = pd.read_csv('campus.csv')"
   ]
  },
  {
   "cell_type": "markdown",
   "metadata": {},
   "source": [
    "# Making initial clearings"
   ]
  },
  {
   "cell_type": "code",
   "execution_count": null,
   "metadata": {},
   "outputs": [],
   "source": [
    "# checkpoint\n",
    "check1 = df.copy()"
   ]
  },
  {
   "cell_type": "code",
   "execution_count": null,
   "metadata": {},
   "outputs": [],
   "source": [
    "df =check1.copy()"
   ]
  },
  {
   "cell_type": "code",
   "execution_count": null,
   "metadata": {},
   "outputs": [],
   "source": [
    "df.head()"
   ]
  },
  {
   "cell_type": "code",
   "execution_count": null,
   "metadata": {},
   "outputs": [],
   "source": [
    "df.drop(axis=1, inplace=True, columns='Timestamp')\n"
   ]
  },
  {
   "cell_type": "code",
   "execution_count": null,
   "metadata": {},
   "outputs": [],
   "source": [
    "df.info()"
   ]
  },
  {
   "cell_type": "code",
   "execution_count": null,
   "metadata": {},
   "outputs": [],
   "source": [
    "print(\"All column names:-\\n\")\n",
    "print(df.columns.values)"
   ]
  },
  {
   "cell_type": "code",
   "execution_count": null,
   "metadata": {},
   "outputs": [],
   "source": [
    "# Renaming columns\n",
    "df.rename(columns = {'What is your current year of study':'year', \n",
    "                     'What is your current relationship status?': 'relationship',\n",
    "                     'How do you prefer studying before exams?': 'study',\n",
    "                     'Do you do competitive programming?': 'CP',\n",
    "                     'Which hostel do you live in?': 'hostel',\n",
    "                     'What is your gender?': 'gender',\n",
    "                     'What is your favourite sport?': 'sport',\n",
    "                     'Favourite hangout place in campus': 'hangout_spot',\n",
    "                     'Which state/union territory do you belong to?': 'state',\n",
    "                     'What is your dept?': 'dept',\n",
    "                     'What is your preferred coding language?': 'coding_lang',\n",
    "                     'What is your favourite place to eat at IIT Guwahati?': 'fav_place_to_eat',\n",
    "                     'Which is your favourite club in IIT Guwahati?': 'fav_club',\n",
    "                     'Are you satisfied in IIT Guwahati': 'satisfied',\n",
    "                     'What is your current cpi?': 'cpi'}, inplace = True)\n"
   ]
  },
  {
   "cell_type": "code",
   "execution_count": null,
   "metadata": {},
   "outputs": [],
   "source": [
    "print(df.shape)\n",
    "df.head()"
   ]
  },
  {
   "cell_type": "code",
   "execution_count": null,
   "metadata": {},
   "outputs": [],
   "source": [
    "small=df.columns.values\n",
    "for col in small:\n",
    "    print(df.value_counts(col))\n",
    "    print(' ')"
   ]
  },
  {
   "cell_type": "code",
   "execution_count": null,
   "metadata": {},
   "outputs": [],
   "source": [
    "df.isnull().sum()"
   ]
  },
  {
   "cell_type": "markdown",
   "metadata": {},
   "source": [
    "# Replacing entries with more workable values"
   ]
  },
  {
   "cell_type": "code",
   "execution_count": null,
   "metadata": {},
   "outputs": [],
   "source": [
    "df['relationship'].replace('In a relationship', 'relationship', inplace=True)\n",
    "df['relationship'].replace(\"It's complicated\", 'complicated', inplace=True)\n",
    "df['relationship'].replace(\"Single\", 'single', inplace=True)"
   ]
  },
  {
   "cell_type": "code",
   "execution_count": null,
   "metadata": {},
   "outputs": [],
   "source": [
    "df['year'].replace('1st', 1, inplace=True)\n",
    "df['year'].replace('2nd', 2, inplace=True)\n",
    "df['year'].replace('3rd', 3, inplace=True)\n",
    "df['year'].replace('4th', 4, inplace=True)"
   ]
  },
  {
   "cell_type": "code",
   "execution_count": null,
   "metadata": {},
   "outputs": [],
   "source": [
    "df['study'].replace('Pulling of all nighters :)', 'all_nighter', inplace=True)\n",
    "df['study'].replace('Studying on a regular basis', 'regular', inplace=True)"
   ]
  },
  {
   "cell_type": "code",
   "execution_count": null,
   "metadata": {},
   "outputs": [],
   "source": [
    "df['CP'].replace(\"Yes\", 1, inplace=True)\n",
    "df['CP'].replace(\"No\", 0, inplace=True)"
   ]
  },
  {
   "cell_type": "code",
   "execution_count": null,
   "metadata": {},
   "outputs": [],
   "source": [
    "df['hangout_spot'].replace(\"IIT G lake (in front of library)\", \"IITG lake\", inplace=True)\n",
    "df['hangout_spot'].replace(\"Serpentine Lake 😏\", \"Serpentine\", inplace=True)\n",
    "df['hangout_spot'].replace(\"Lake in front of the hospital\", \"Tihor lake\", inplace=True)"
   ]
  },
  {
   "cell_type": "code",
   "execution_count": null,
   "metadata": {},
   "outputs": [],
   "source": [
    "df['state'].replace(\"The Government of NCT of Delhi\", \"Delhi\", inplace=True)\n",
    "df['dept'].replace(\"Dsai\", \"DSAI\", inplace=True)\n",
    "df['gender'].replace(\"Prefer not to say\", np.nan, inplace=True)"
   ]
  },
  {
   "cell_type": "code",
   "execution_count": null,
   "metadata": {},
   "outputs": [],
   "source": [
    "null_cpi = [\"😂😂😂😂\",\"noooooooooooo\",'1st year Student. So CPI \"0\"','1','Bruh','1107.87','-','Currently in 1st sem','na','4.07','69','0','100','I prefer not to say', '11', '11.97', '10']\n",
    "\n",
    "df['cpi'].replace(null_cpi, np.nan, inplace=True)\n",
    "df['cpi'].replace('Between 8 and 9', 8.5, inplace=True)\n",
    "df['cpi'].replace('8+', 8.1, inplace=True)\n",
    "df['cpi'].replace('7+🤣', 7.1, inplace=True)\n",
    "df['cpi'] = pd.to_numeric(df['cpi'])"
   ]
  },
  {
   "cell_type": "code",
   "execution_count": null,
   "metadata": {},
   "outputs": [],
   "source": [
    "df['hostel'].replace(\"Bhramaputra\", \"Brahmaputra\", inplace=True)\n",
    "df['hostel'].replace(\"Dibang\", np.nan, inplace=True)"
   ]
  },
  {
   "cell_type": "code",
   "execution_count": null,
   "metadata": {},
   "outputs": [],
   "source": [
    "df['fav_club'].replace('ml.ai', 'iitg.ai', inplace=True)"
   ]
  },
  {
   "cell_type": "code",
   "execution_count": null,
   "metadata": {},
   "outputs": [],
   "source": [
    "print(df.value_counts(['sport']))"
   ]
  },
  {
   "cell_type": "code",
   "execution_count": null,
   "metadata": {},
   "outputs": [],
   "source": [
    "null_sports = ['Sex', 'none','Nothing','Bro?','No sport lol','People Gazing','Na','Playing with my mental health','Coding','Genshin Impact', 'Barricade riding']\n",
    "tt=['tt', 'table tennis ','table tennis','Table Tennis', 'Table Tennis ', 'Table tennis', 'Table tennis ']\n",
    "df['sport'].replace(null_sports, np.nan, inplace=True)\n",
    "df['sport'].replace(tt, 'TT', inplace=True)\n",
    "df['sport'].replace('chess', 'Chess', inplace=True)\n",
    "df['sport'].replace(['LT', 'Tennis '], 'Tennis', inplace=True)\n",
    "df['sport'].replace(['GYMMING', 'GYMMING '], 'Gym', inplace=True)\n",
    "df['sport'].replace(['Athletic', 'Athletics ', 'Athletic ', 'Running'], 'Athletics', inplace=True)\n",
    "df['sport'].replace(['Cricket ', 'cricket', 'CRICKET', 'Bat-Ball'], 'Cricket', inplace=True)\n",
    "df['sport'].replace(['Badminton lol', 'Badminton ', 'badminton'], 'Badminton', inplace=True)\n",
    "df['sport'].replace(['Volleyball '], 'Volleyball', inplace=True)\n",
    "df['sport'].replace(['basketball', 'Basketball ', 'basketball '], 'Basketball', inplace=True)\n",
    "df['sport'].replace(['swimming ', 'Swimming ', 'swimming'], 'Swimming', inplace=True)\n",
    "df['sport'].replace(['futbol', 'Football '], 'Football', inplace=True)\n",
    "df['sport'].replace('Cricket, Football, Swimming, Tennis.', 'Cricket, Football, Swimming, Tennis', inplace=True)\n",
    "df['sport'].replace('Cricket,badminton', 'Cricket, Badminton', inplace=True)\n",
    "df['sport'].replace('Cricket,volleyball', 'Cricket, Volleyball', inplace=True)\n",
    "df['sport'].replace('Swimming and badminton', 'Swimming, Badminton', inplace=True)\n",
    "df['sport'].replace('to watch is cricket and basketball, to play is volleyball', 'Volleyball', inplace=True)"
   ]
  },
  {
   "cell_type": "code",
   "execution_count": null,
   "metadata": {},
   "outputs": [],
   "source": [
    "# Creating seperate data frame to work with the sports column only\n",
    "sports_df = df['sport'].copy()\n",
    "sports_df = sports_df[:].str.split(', ', expand=True).stack()\n",
    "sports_df = sports_df.reset_index(level=1, drop=True).to_frame('sport')\n",
    "print(sports_df.value_counts())"
   ]
  },
  {
   "cell_type": "code",
   "execution_count": null,
   "metadata": {},
   "outputs": [],
   "source": [
    "check2 = df.copy()"
   ]
  },
  {
   "cell_type": "code",
   "execution_count": null,
   "metadata": {},
   "outputs": [],
   "source": [
    "df =check2.copy()"
   ]
  },
  {
   "cell_type": "markdown",
   "metadata": {},
   "source": [
    "## Dealing with null values"
   ]
  },
  {
   "cell_type": "code",
   "execution_count": null,
   "metadata": {},
   "outputs": [],
   "source": [
    "df.isnull().sum()"
   ]
  },
  {
   "cell_type": "markdown",
   "metadata": {},
   "source": [
    "### Replacing null cpi values with the median cpi by year except for first year"
   ]
  },
  {
   "cell_type": "code",
   "execution_count": null,
   "metadata": {},
   "outputs": [],
   "source": [
    "df[(df['cpi'].isnull()) & (df['year']!=1)]"
   ]
  },
  {
   "cell_type": "code",
   "execution_count": null,
   "metadata": {},
   "outputs": [],
   "source": [
    "def fill_null(df, column, years):\n",
    "    for year in years:\n",
    "        median = df.loc[df['year'] == year, column].median()\n",
    "        df.loc[(df['year'] == year) & (df[column].isnull()), column] = median\n",
    "    return df\n",
    "df = fill_null(df, 'cpi', [2,3,4])"
   ]
  },
  {
   "cell_type": "code",
   "execution_count": null,
   "metadata": {},
   "outputs": [],
   "source": [
    "median = df['cpi'].median()\n",
    "df.loc[(df['year'].isnull()) & (df['cpi'].isnull()), 'cpi'] = median"
   ]
  },
  {
   "cell_type": "code",
   "execution_count": null,
   "metadata": {},
   "outputs": [],
   "source": [
    "check3 = df.copy()"
   ]
  },
  {
   "cell_type": "code",
   "execution_count": null,
   "metadata": {},
   "outputs": [],
   "source": [
    "df =check3.copy()"
   ]
  },
  {
   "cell_type": "markdown",
   "metadata": {},
   "source": [
    "# Exploratory Data Ananlysis (EDA)"
   ]
  },
  {
   "cell_type": "markdown",
   "metadata": {},
   "source": [
    "We will be looking at some questions, not already mentioned in the reference notebook"
   ]
  },
  {
   "cell_type": "markdown",
   "metadata": {},
   "source": [
    "# Analysing Competitive Programming Scene"
   ]
  },
  {
   "cell_type": "markdown",
   "metadata": {},
   "source": [
    "### What is the favourite programming language of competitive programmers throughout the years?"
   ]
  },
  {
   "cell_type": "code",
   "execution_count": null,
   "metadata": {},
   "outputs": [],
   "source": [
    "plt.figure(figsize=(10,16))\n",
    "    \n",
    "plt.subplot(4,1,1)\n",
    "plt.title('2nd Year')\n",
    "sns.barplot(x=df[df['year'] == 2]['coding_lang'].value_counts().values, y=df[df['year'] == 2]['coding_lang'].value_counts().keys(), orient='h')\n",
    "plt.ylabel('Preferred Coding Language')\n",
    "\n",
    "plt.subplot(4,1,2)\n",
    "plt.title('3rd Year')\n",
    "sns.barplot(x=df[df['year'] == 3]['coding_lang'].value_counts().values, y=df[df['year'] == 3]['coding_lang'].value_counts().keys(), orient='h')\n",
    "plt.ylabel('Preferred Coding Language')\n",
    "\n",
    "plt.subplot(4,1,3)\n",
    "plt.title('4th Year')\n",
    "sns.barplot(x=df[df['year'] == 4]['coding_lang'].value_counts().values, y=df[df['year'] == 4]['coding_lang'].value_counts().keys(), orient='h')\n",
    "plt.ylabel('Preferred Coding Language')\n",
    "\n",
    "plt.subplot(4,1,4)\n",
    "plt.title('Overall')\n",
    "sns.barplot(x=df['coding_lang'].value_counts().values, y=df['coding_lang'].value_counts().keys(), orient='h')\n",
    "plt.ylabel('Preferred Coding Language')\n",
    "\n",
    "plt.show()\n",
    "\n"
   ]
  },
  {
   "cell_type": "markdown",
   "metadata": {},
   "source": [
    "Some observations:-\n",
    "* C++ seems to be the preferred language throughout the years for competitive programmers.\n",
    "* Java and C lose their popularity among the higher year competitive programmers."
   ]
  },
  {
   "cell_type": "markdown",
   "metadata": {},
   "source": [
    "### Are our coders single?"
   ]
  },
  {
   "cell_type": "code",
   "execution_count": null,
   "metadata": {},
   "outputs": [],
   "source": [
    "plt.figure(figsize=(9,10))\n",
    "\n",
    "plt.subplot(2,2,1)\n",
    "plt.title('Overall')\n",
    "sns.countplot(data=df[df['CP'] == 1], x='relationship', palette={'relationship': 'blue', 'single': 'red', 'complicated': 'orange'})\n",
    "plt.xlabel('Relationship Status')\n",
    "\n",
    "plt.subplot(2,2,2)\n",
    "plt.title('2nd Year')\n",
    "sns.countplot(data=df[(df['CP'] == 1) & (df['year']==2)], x='relationship', palette={'relationship': 'blue', 'single': 'red', 'complicated': 'orange'})\n",
    "plt.xlabel('Relationship Status')\n",
    "\n",
    "plt.subplot(2,2,3)\n",
    "plt.title('3rd Year')\n",
    "sns.countplot(data=df[(df['CP'] == 1) & (df['year']==3)], x='relationship', palette={'relationship': 'blue', 'single': 'red', 'complicated': 'orange'})\n",
    "plt.xlabel('Relationship Status')\n",
    "\n",
    "plt.subplot(2,2,4)\n",
    "plt.title('4th Year')\n",
    "sns.countplot(data=df[(df['CP'] == 1) & (df['year']==4)], x='relationship', palette={'relationship': 'blue', 'single': 'red', 'complicated': 'orange'})\n",
    "plt.xlabel('Relationship Status')\n",
    "\n",
    "plt.show()"
   ]
  },
  {
   "cell_type": "markdown",
   "metadata": {},
   "source": [
    "Observations:-\n",
    "* As expected, most of our competitive programmers are single.\n",
    "* But those who are in a relationship can be found in 2nd and 4th years.\n",
    "* The competitive programmers are not getting into complicated relations as the years increase"
   ]
  },
  {
   "cell_type": "markdown",
   "metadata": {},
   "source": [
    "### How does department affect satisfaction?"
   ]
  },
  {
   "cell_type": "code",
   "execution_count": null,
   "metadata": {},
   "outputs": [],
   "source": [
    "pivot = df.pivot_table(index='dept', columns='satisfied', aggfunc='size', fill_value=0)\n",
    "\n",
    "# making it a density graph instead of a count graph for better analysis\n",
    "pivot = pivot.div(pivot.sum(axis=1), axis=0)\n",
    "pivot = pivot[['Yes', 'Maybe','No']]\n",
    "pivot = pivot.sort_values(by='Yes')\n",
    "\n",
    "pivot.plot(kind='bar', stacked=True, color=['green','blue','red'])\n",
    "plt.xlabel('Department')\n",
    "plt.ylabel('Density')\n",
    "plt.title('Satisfaction across the departments')\n",
    "plt.legend(title='Satisfaction')\n",
    "\n",
    "plt.axhline(y=0.5, color='black', linestyle='--')\n",
    "plt.show()"
   ]
  },
  {
   "cell_type": "markdown",
   "metadata": {},
   "source": [
    "We will not consider HSS here as it an outlier, or someone trying to be funny.\n",
    "Observations:-\n",
    "* Most of the branches are mostly satisfied with exceptions of DSAI and  EP.\n",
    "* Most dissatisfaction is seen in CST and then Chemical.\n",
    "* MnC shows the most satisfaction, even though the course is considered very hard.\n",
    "* CSE, suprisingly, comes at about average satisfaction.\n",
    "* No one is purely dissatisfied among the people in Civil and DSAI."
   ]
  },
  {
   "cell_type": "markdown",
   "metadata": {},
   "source": [
    "### Does satisfaction affect CPI?"
   ]
  },
  {
   "cell_type": "code",
   "execution_count": null,
   "metadata": {},
   "outputs": [],
   "source": [
    "print('Satisfaction among students:')\n",
    "print(df['satisfied'].value_counts(dropna=False))\n",
    "\n",
    "plt.figure(figsize=(10,6))\n",
    "\n",
    "sns.kdeplot(df[df['satisfied'] == 'Yes']['cpi'], color='blue')\n",
    "sns.kdeplot(df[df['satisfied'] == 'Maybe']['cpi'], color='orange')\n",
    "sns.kdeplot(df[df['satisfied'] == 'No']['cpi'], color='red')\n",
    "plt.legend(labels=['Satisfied', 'Neutral', 'Dissatisfied'])\n",
    "\n",
    "plt.show()"
   ]
  },
  {
   "cell_type": "markdown",
   "metadata": {},
   "source": [
    "Observations:\n",
    "\n",
    "* Satisfaction doesn't really affect the CPI of students, with the peak lying just above 8.\n",
    "* However, there is a wierd bump in the high 9.3 region among those dissatisfied by IITG\n",
    "* Those satisfied with IITG have a much distributed graph than the others."
   ]
  },
  {
   "cell_type": "markdown",
   "metadata": {},
   "source": [
    "### What are the most popular sports in IITG?"
   ]
  },
  {
   "cell_type": "code",
   "execution_count": null,
   "metadata": {},
   "outputs": [],
   "source": [
    "sns.countplot(x='sport', data=sports_df, color='blue', order=sports_df['sport'].value_counts().index)\n",
    "plt.xticks(rotation=90)\n",
    "plt.show()"
   ]
  },
  {
   "cell_type": "markdown",
   "metadata": {},
   "source": [
    "Observations:\n",
    "\n",
    "* Obviously, being in India, Cricket is the most popular sport in IITG.\n",
    "* However, badminton comes in close second, mostly due to the availibility of multiple courts.\n",
    "* TT is also quite popular due to their being a TT table in mostly all hostel.\n",
    "* Most of the sports having more than one count have good facilities and exposure provided by IITG, exceptions being Squash, Archery, and Hockey."
   ]
  },
  {
   "cell_type": "markdown",
   "metadata": {},
   "source": [
    "### Does satisfaction have anything to do with gender?"
   ]
  },
  {
   "cell_type": "code",
   "execution_count": null,
   "metadata": {},
   "outputs": [],
   "source": [
    "print('How satisfied different genders are in IITG')\n",
    "plt.figure(figsize=(6,7))\n",
    "\n",
    "plt.subplot(2,2,1)\n",
    "plt.title('Male')\n",
    "plt.pie(df[df['gender'] == 'Man']['satisfied'].value_counts(), autopct='%.0f%%')\n",
    "plt.legend(labels=['Yes', 'Maybe', 'No'])\n",
    "\n",
    "\n",
    "plt.subplot(2,2,2)\n",
    "plt.title('Female')\n",
    "plt.pie(df[df['gender'] == 'Woman']['satisfied'].value_counts(), autopct='%.0f%%')\n",
    "# plt.legend(labels=['Yes', 'Maybe', 'No'])\n",
    "\n",
    "plt.subplot(2,2,3)\n",
    "plt.title('Non-binary')\n",
    "plt.pie(df[df['gender'] == 'Non-binary']['satisfied'].value_counts(), autopct='%.0f%%')\n",
    "# plt.legend(labels=['Yes', 'Maybe', 'No'])\n",
    "\n",
    "plt.subplot(2,2,4)\n",
    "plt.title('Prefer not to say')\n",
    "plt.pie(df[df['gender'].isnull()]['satisfied'].value_counts(), autopct='%.0f%%')\n",
    "# plt.legend(labels=['Yes', 'Maybe', 'No'])\n",
    "\n",
    "plt.show()"
   ]
  },
  {
   "cell_type": "markdown",
   "metadata": {},
   "source": [
    "Observation:-\n",
    "\n",
    "* An average male in IITG is satisfied.\n",
    "* However, the females of IITG are not satisfied.\n",
    "* Even though pure dissatisfaction is almost equal among Male and Female, there are more women that are undecisive on their satisfaction.\n",
    "* The non-binary folks at IITG are mostly satisfied by IITG.\n",
    "* The people who do not prefer to say are more satisfied than they are dissatisfied\n",
    "\n",
    "These satisfaction rates are good for IITG. However, they need to work on student satisfaction more as it is ultimately the students that make the institute."
   ]
  },
  {
   "cell_type": "code",
   "execution_count": null,
   "metadata": {},
   "outputs": [],
   "source": []
  }
 ],
 "metadata": {
  "kernelspec": {
   "display_name": ".venv",
   "language": "python",
   "name": "python3"
  },
  "language_info": {
   "codemirror_mode": {
    "name": "ipython",
    "version": 3
   },
   "file_extension": ".py",
   "mimetype": "text/x-python",
   "name": "python",
   "nbconvert_exporter": "python",
   "pygments_lexer": "ipython3",
   "version": "3.12.3"
  }
 },
 "nbformat": 4,
 "nbformat_minor": 2
}
