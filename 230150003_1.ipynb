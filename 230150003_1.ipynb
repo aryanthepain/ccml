{
 "cells": [
  {
   "cell_type": "markdown",
   "metadata": {},
   "source": [
    "# Installing required libraries and files"
   ]
  },
  {
   "cell_type": "code",
   "execution_count": 381,
   "metadata": {},
   "outputs": [],
   "source": [
    "import pandas as pd\n",
    "import numpy as np\n",
    "import matplotlib.pyplot as plt\n",
    "import seaborn as sns\n",
    "import warnings\n",
    "warnings.filterwarnings('ignore')\n",
    "%matplotlib inline"
   ]
  },
  {
   "cell_type": "code",
   "execution_count": 382,
   "metadata": {},
   "outputs": [],
   "source": [
    "df = pd.read_csv('campus.csv')"
   ]
  },
  {
   "cell_type": "markdown",
   "metadata": {},
   "source": [
    "# Making initial clearings"
   ]
  },
  {
   "cell_type": "code",
   "execution_count": 383,
   "metadata": {},
   "outputs": [],
   "source": [
    "# checkpoint\n",
    "check1 = df.copy()"
   ]
  },
  {
   "cell_type": "code",
   "execution_count": 384,
   "metadata": {},
   "outputs": [],
   "source": [
    "df =check1.copy()"
   ]
  },
  {
   "cell_type": "code",
   "execution_count": 385,
   "metadata": {},
   "outputs": [
    {
     "data": {
      "text/html": [
       "<div>\n",
       "<style scoped>\n",
       "    .dataframe tbody tr th:only-of-type {\n",
       "        vertical-align: middle;\n",
       "    }\n",
       "\n",
       "    .dataframe tbody tr th {\n",
       "        vertical-align: top;\n",
       "    }\n",
       "\n",
       "    .dataframe thead th {\n",
       "        text-align: right;\n",
       "    }\n",
       "</style>\n",
       "<table border=\"1\" class=\"dataframe\">\n",
       "  <thead>\n",
       "    <tr style=\"text-align: right;\">\n",
       "      <th></th>\n",
       "      <th>Timestamp</th>\n",
       "      <th>What is your current year of study</th>\n",
       "      <th>What is your current relationship status?</th>\n",
       "      <th>How do you prefer studying before exams?</th>\n",
       "      <th>Do you do competitive programming?</th>\n",
       "      <th>Which hostel do you live in?</th>\n",
       "      <th>What is your gender?</th>\n",
       "      <th>What is your favourite sport?</th>\n",
       "      <th>Favourite hangout place in campus</th>\n",
       "      <th>Which state/union territory do you belong to?</th>\n",
       "      <th>What is your dept?</th>\n",
       "      <th>What is your preferred coding language?</th>\n",
       "      <th>What is your favourite place to eat at IIT Guwahati?</th>\n",
       "      <th>Which is your favourite club in IIT Guwahati?</th>\n",
       "      <th>Are you satisfied in IIT Guwahati</th>\n",
       "      <th>What is your current cpi?</th>\n",
       "    </tr>\n",
       "  </thead>\n",
       "  <tbody>\n",
       "    <tr>\n",
       "      <th>0</th>\n",
       "      <td>2022/08/15 2:57:34 pm GMT+5:30</td>\n",
       "      <td>2nd</td>\n",
       "      <td>In a relationship</td>\n",
       "      <td>Pulling of all nighters :)</td>\n",
       "      <td>Yes</td>\n",
       "      <td>NaN</td>\n",
       "      <td>Man</td>\n",
       "      <td>Table tennis</td>\n",
       "      <td>IIT G lake (in front of library)</td>\n",
       "      <td>Haryana</td>\n",
       "      <td>CSE</td>\n",
       "      <td>C++</td>\n",
       "      <td>Rolls Mania/Tacos</td>\n",
       "      <td>Octaves</td>\n",
       "      <td>No</td>\n",
       "      <td>9.86</td>\n",
       "    </tr>\n",
       "    <tr>\n",
       "      <th>1</th>\n",
       "      <td>2022/08/15 2:57:46 pm GMT+5:30</td>\n",
       "      <td>3rd</td>\n",
       "      <td>Single</td>\n",
       "      <td>Studying on a regular basis</td>\n",
       "      <td>No</td>\n",
       "      <td>Manas</td>\n",
       "      <td>Man</td>\n",
       "      <td>Football</td>\n",
       "      <td>IIT G lake (in front of library)</td>\n",
       "      <td>Uttar Pradesh</td>\n",
       "      <td>CST</td>\n",
       "      <td>Python</td>\n",
       "      <td>Hostel Canteen</td>\n",
       "      <td>ml.ai</td>\n",
       "      <td>No</td>\n",
       "      <td>1</td>\n",
       "    </tr>\n",
       "    <tr>\n",
       "      <th>2</th>\n",
       "      <td>2022/08/15 2:58:25 pm GMT+5:30</td>\n",
       "      <td>2nd</td>\n",
       "      <td>Single</td>\n",
       "      <td>Studying on a regular basis</td>\n",
       "      <td>No</td>\n",
       "      <td>Disang</td>\n",
       "      <td>Woman</td>\n",
       "      <td>Badminton</td>\n",
       "      <td>IIT G lake (in front of library)</td>\n",
       "      <td>West Bengal</td>\n",
       "      <td>ECE</td>\n",
       "      <td>C</td>\n",
       "      <td>Hostel Mess</td>\n",
       "      <td>Robotics</td>\n",
       "      <td>Maybe</td>\n",
       "      <td>9.3</td>\n",
       "    </tr>\n",
       "    <tr>\n",
       "      <th>3</th>\n",
       "      <td>2022/08/15 2:59:33 pm GMT+5:30</td>\n",
       "      <td>2nd</td>\n",
       "      <td>Single</td>\n",
       "      <td>Pulling of all nighters :)</td>\n",
       "      <td>No</td>\n",
       "      <td>NaN</td>\n",
       "      <td>Man</td>\n",
       "      <td>Football</td>\n",
       "      <td>IIT G lake (in front of library)</td>\n",
       "      <td>The Government of NCT of Delhi</td>\n",
       "      <td>NaN</td>\n",
       "      <td>Python</td>\n",
       "      <td>Food Court</td>\n",
       "      <td>Coding Club</td>\n",
       "      <td>Maybe</td>\n",
       "      <td>7.5</td>\n",
       "    </tr>\n",
       "    <tr>\n",
       "      <th>4</th>\n",
       "      <td>2022/08/15 3:01:10 pm GMT+5:30</td>\n",
       "      <td>NaN</td>\n",
       "      <td>Single</td>\n",
       "      <td>Studying on a regular basis</td>\n",
       "      <td>No</td>\n",
       "      <td>Lohit</td>\n",
       "      <td>Man</td>\n",
       "      <td>Cricket</td>\n",
       "      <td>IIT G lake (in front of library)</td>\n",
       "      <td>Uttar Pradesh</td>\n",
       "      <td>NaN</td>\n",
       "      <td>Java</td>\n",
       "      <td>Hostel Canteen</td>\n",
       "      <td>ml.ai</td>\n",
       "      <td>Yes</td>\n",
       "      <td>8.83</td>\n",
       "    </tr>\n",
       "  </tbody>\n",
       "</table>\n",
       "</div>"
      ],
      "text/plain": [
       "                        Timestamp What is your current year of study  \\\n",
       "0  2022/08/15 2:57:34 pm GMT+5:30                                2nd   \n",
       "1  2022/08/15 2:57:46 pm GMT+5:30                                3rd   \n",
       "2  2022/08/15 2:58:25 pm GMT+5:30                                2nd   \n",
       "3  2022/08/15 2:59:33 pm GMT+5:30                                2nd   \n",
       "4  2022/08/15 3:01:10 pm GMT+5:30                                NaN   \n",
       "\n",
       "  What is your current relationship status?  \\\n",
       "0                         In a relationship   \n",
       "1                                    Single   \n",
       "2                                    Single   \n",
       "3                                    Single   \n",
       "4                                    Single   \n",
       "\n",
       "  How do you prefer studying before exams? Do you do competitive programming?  \\\n",
       "0               Pulling of all nighters :)                                Yes   \n",
       "1              Studying on a regular basis                                 No   \n",
       "2              Studying on a regular basis                                 No   \n",
       "3               Pulling of all nighters :)                                 No   \n",
       "4              Studying on a regular basis                                 No   \n",
       "\n",
       "  Which hostel do you live in? What is your gender?  \\\n",
       "0                          NaN                  Man   \n",
       "1                        Manas                  Man   \n",
       "2                       Disang                Woman   \n",
       "3                          NaN                  Man   \n",
       "4                        Lohit                  Man   \n",
       "\n",
       "  What is your favourite sport? Favourite hangout place in campus  \\\n",
       "0                 Table tennis   IIT G lake (in front of library)   \n",
       "1                      Football  IIT G lake (in front of library)   \n",
       "2                     Badminton  IIT G lake (in front of library)   \n",
       "3                     Football   IIT G lake (in front of library)   \n",
       "4                       Cricket  IIT G lake (in front of library)   \n",
       "\n",
       "  Which state/union territory do you belong to? What is your dept?  \\\n",
       "0                                       Haryana                CSE   \n",
       "1                                 Uttar Pradesh                CST   \n",
       "2                                   West Bengal                ECE   \n",
       "3                The Government of NCT of Delhi                NaN   \n",
       "4                                 Uttar Pradesh                NaN   \n",
       "\n",
       "  What is your preferred coding language?  \\\n",
       "0                                     C++   \n",
       "1                                  Python   \n",
       "2                                       C   \n",
       "3                                  Python   \n",
       "4                                    Java   \n",
       "\n",
       "  What is your favourite place to eat at IIT Guwahati?  \\\n",
       "0                                  Rolls Mania/Tacos     \n",
       "1                                     Hostel Canteen     \n",
       "2                                        Hostel Mess     \n",
       "3                                         Food Court     \n",
       "4                                     Hostel Canteen     \n",
       "\n",
       "  Which is your favourite club in IIT Guwahati?  \\\n",
       "0                                       Octaves   \n",
       "1                                         ml.ai   \n",
       "2                                      Robotics   \n",
       "3                                   Coding Club   \n",
       "4                                         ml.ai   \n",
       "\n",
       "  Are you satisfied in IIT Guwahati What is your current cpi?  \n",
       "0                                No                      9.86  \n",
       "1                                No                         1  \n",
       "2                             Maybe                       9.3  \n",
       "3                             Maybe                       7.5  \n",
       "4                               Yes                      8.83  "
      ]
     },
     "execution_count": 385,
     "metadata": {},
     "output_type": "execute_result"
    }
   ],
   "source": [
    "df.head()"
   ]
  },
  {
   "cell_type": "code",
   "execution_count": 386,
   "metadata": {},
   "outputs": [],
   "source": [
    "df.drop(axis=1, inplace=True, columns='Timestamp')\n"
   ]
  },
  {
   "cell_type": "code",
   "execution_count": 387,
   "metadata": {},
   "outputs": [
    {
     "name": "stdout",
     "output_type": "stream",
     "text": [
      "<class 'pandas.core.frame.DataFrame'>\n",
      "RangeIndex: 227 entries, 0 to 226\n",
      "Data columns (total 15 columns):\n",
      " #   Column                                                Non-Null Count  Dtype \n",
      "---  ------                                                --------------  ----- \n",
      " 0   What is your current year of study                    223 non-null    object\n",
      " 1   What is your current relationship status?             225 non-null    object\n",
      " 2   How do you prefer studying before exams?              227 non-null    object\n",
      " 3   Do you do competitive programming?                    227 non-null    object\n",
      " 4   Which hostel do you live in?                          220 non-null    object\n",
      " 5   What is your gender?                                  224 non-null    object\n",
      " 6   What is your favourite sport?                         194 non-null    object\n",
      " 7   Favourite hangout place in campus                     217 non-null    object\n",
      " 8   Which state/union territory do you belong to?         218 non-null    object\n",
      " 9   What is your dept?                                    216 non-null    object\n",
      " 10  What is your preferred coding language?               218 non-null    object\n",
      " 11  What is your favourite place to eat at IIT Guwahati?  211 non-null    object\n",
      " 12  Which is your favourite club in IIT Guwahati?         213 non-null    object\n",
      " 13  Are you satisfied in IIT Guwahati                     225 non-null    object\n",
      " 14  What is your current cpi?                             226 non-null    object\n",
      "dtypes: object(15)\n",
      "memory usage: 26.7+ KB\n"
     ]
    }
   ],
   "source": [
    "df.info()"
   ]
  },
  {
   "cell_type": "code",
   "execution_count": 388,
   "metadata": {},
   "outputs": [
    {
     "name": "stdout",
     "output_type": "stream",
     "text": [
      "All column names:-\n",
      "\n",
      "['What is your current year of study'\n",
      " 'What is your current relationship status?'\n",
      " 'How do you prefer studying before exams?'\n",
      " 'Do you do competitive programming?' 'Which hostel do you live in?'\n",
      " 'What is your gender?' 'What is your favourite sport?'\n",
      " 'Favourite hangout place in campus'\n",
      " 'Which state/union territory do you belong to?' 'What is your dept?'\n",
      " 'What is your preferred coding language?'\n",
      " 'What is your favourite place to eat at IIT Guwahati?'\n",
      " 'Which is your favourite club in IIT Guwahati?'\n",
      " 'Are you satisfied in IIT Guwahati' 'What is your current cpi?']\n"
     ]
    }
   ],
   "source": [
    "print(\"All column names:-\\n\")\n",
    "print(df.columns.values)"
   ]
  },
  {
   "cell_type": "code",
   "execution_count": 389,
   "metadata": {},
   "outputs": [],
   "source": [
    "# Renaming columns\n",
    "df.rename(columns = {'What is your current year of study':'year', \n",
    "                     'What is your current relationship status?': 'relationship',\n",
    "                     'How do you prefer studying before exams?': 'study',\n",
    "                     'Do you do competitive programming?': 'CP',\n",
    "                     'Which hostel do you live in?': 'hostel',\n",
    "                     'What is your gender?': 'gender',\n",
    "                     'What is your favourite sport?': 'sport',\n",
    "                     'Favourite hangout place in campus': 'hangout_spot',\n",
    "                     'Which state/union territory do you belong to?': 'state',\n",
    "                     'What is your dept?': 'dept',\n",
    "                     'What is your preferred coding language?': 'coding_lang',\n",
    "                     'What is your favourite place to eat at IIT Guwahati?': 'fav_place_to_eat',\n",
    "                     'Which is your favourite club in IIT Guwahati?': 'fav_club',\n",
    "                     'Are you satisfied in IIT Guwahati': 'satisfied',\n",
    "                     'What is your current cpi?': 'cpi'}, inplace = True)\n"
   ]
  },
  {
   "cell_type": "code",
   "execution_count": 390,
   "metadata": {},
   "outputs": [
    {
     "name": "stdout",
     "output_type": "stream",
     "text": [
      "(227, 15)\n"
     ]
    },
    {
     "data": {
      "text/html": [
       "<div>\n",
       "<style scoped>\n",
       "    .dataframe tbody tr th:only-of-type {\n",
       "        vertical-align: middle;\n",
       "    }\n",
       "\n",
       "    .dataframe tbody tr th {\n",
       "        vertical-align: top;\n",
       "    }\n",
       "\n",
       "    .dataframe thead th {\n",
       "        text-align: right;\n",
       "    }\n",
       "</style>\n",
       "<table border=\"1\" class=\"dataframe\">\n",
       "  <thead>\n",
       "    <tr style=\"text-align: right;\">\n",
       "      <th></th>\n",
       "      <th>year</th>\n",
       "      <th>relationship</th>\n",
       "      <th>study</th>\n",
       "      <th>CP</th>\n",
       "      <th>hostel</th>\n",
       "      <th>gender</th>\n",
       "      <th>sport</th>\n",
       "      <th>hangout_spot</th>\n",
       "      <th>state</th>\n",
       "      <th>dept</th>\n",
       "      <th>coding_lang</th>\n",
       "      <th>fav_place_to_eat</th>\n",
       "      <th>fav_club</th>\n",
       "      <th>satisfied</th>\n",
       "      <th>cpi</th>\n",
       "    </tr>\n",
       "  </thead>\n",
       "  <tbody>\n",
       "    <tr>\n",
       "      <th>0</th>\n",
       "      <td>2nd</td>\n",
       "      <td>In a relationship</td>\n",
       "      <td>Pulling of all nighters :)</td>\n",
       "      <td>Yes</td>\n",
       "      <td>NaN</td>\n",
       "      <td>Man</td>\n",
       "      <td>Table tennis</td>\n",
       "      <td>IIT G lake (in front of library)</td>\n",
       "      <td>Haryana</td>\n",
       "      <td>CSE</td>\n",
       "      <td>C++</td>\n",
       "      <td>Rolls Mania/Tacos</td>\n",
       "      <td>Octaves</td>\n",
       "      <td>No</td>\n",
       "      <td>9.86</td>\n",
       "    </tr>\n",
       "    <tr>\n",
       "      <th>1</th>\n",
       "      <td>3rd</td>\n",
       "      <td>Single</td>\n",
       "      <td>Studying on a regular basis</td>\n",
       "      <td>No</td>\n",
       "      <td>Manas</td>\n",
       "      <td>Man</td>\n",
       "      <td>Football</td>\n",
       "      <td>IIT G lake (in front of library)</td>\n",
       "      <td>Uttar Pradesh</td>\n",
       "      <td>CST</td>\n",
       "      <td>Python</td>\n",
       "      <td>Hostel Canteen</td>\n",
       "      <td>ml.ai</td>\n",
       "      <td>No</td>\n",
       "      <td>1</td>\n",
       "    </tr>\n",
       "    <tr>\n",
       "      <th>2</th>\n",
       "      <td>2nd</td>\n",
       "      <td>Single</td>\n",
       "      <td>Studying on a regular basis</td>\n",
       "      <td>No</td>\n",
       "      <td>Disang</td>\n",
       "      <td>Woman</td>\n",
       "      <td>Badminton</td>\n",
       "      <td>IIT G lake (in front of library)</td>\n",
       "      <td>West Bengal</td>\n",
       "      <td>ECE</td>\n",
       "      <td>C</td>\n",
       "      <td>Hostel Mess</td>\n",
       "      <td>Robotics</td>\n",
       "      <td>Maybe</td>\n",
       "      <td>9.3</td>\n",
       "    </tr>\n",
       "    <tr>\n",
       "      <th>3</th>\n",
       "      <td>2nd</td>\n",
       "      <td>Single</td>\n",
       "      <td>Pulling of all nighters :)</td>\n",
       "      <td>No</td>\n",
       "      <td>NaN</td>\n",
       "      <td>Man</td>\n",
       "      <td>Football</td>\n",
       "      <td>IIT G lake (in front of library)</td>\n",
       "      <td>The Government of NCT of Delhi</td>\n",
       "      <td>NaN</td>\n",
       "      <td>Python</td>\n",
       "      <td>Food Court</td>\n",
       "      <td>Coding Club</td>\n",
       "      <td>Maybe</td>\n",
       "      <td>7.5</td>\n",
       "    </tr>\n",
       "    <tr>\n",
       "      <th>4</th>\n",
       "      <td>NaN</td>\n",
       "      <td>Single</td>\n",
       "      <td>Studying on a regular basis</td>\n",
       "      <td>No</td>\n",
       "      <td>Lohit</td>\n",
       "      <td>Man</td>\n",
       "      <td>Cricket</td>\n",
       "      <td>IIT G lake (in front of library)</td>\n",
       "      <td>Uttar Pradesh</td>\n",
       "      <td>NaN</td>\n",
       "      <td>Java</td>\n",
       "      <td>Hostel Canteen</td>\n",
       "      <td>ml.ai</td>\n",
       "      <td>Yes</td>\n",
       "      <td>8.83</td>\n",
       "    </tr>\n",
       "  </tbody>\n",
       "</table>\n",
       "</div>"
      ],
      "text/plain": [
       "  year       relationship                        study   CP  hostel gender  \\\n",
       "0  2nd  In a relationship   Pulling of all nighters :)  Yes     NaN    Man   \n",
       "1  3rd             Single  Studying on a regular basis   No   Manas    Man   \n",
       "2  2nd             Single  Studying on a regular basis   No  Disang  Woman   \n",
       "3  2nd             Single   Pulling of all nighters :)   No     NaN    Man   \n",
       "4  NaN             Single  Studying on a regular basis   No   Lohit    Man   \n",
       "\n",
       "           sport                      hangout_spot  \\\n",
       "0  Table tennis   IIT G lake (in front of library)   \n",
       "1       Football  IIT G lake (in front of library)   \n",
       "2      Badminton  IIT G lake (in front of library)   \n",
       "3      Football   IIT G lake (in front of library)   \n",
       "4        Cricket  IIT G lake (in front of library)   \n",
       "\n",
       "                            state dept coding_lang   fav_place_to_eat  \\\n",
       "0                         Haryana  CSE         C++  Rolls Mania/Tacos   \n",
       "1                   Uttar Pradesh  CST      Python     Hostel Canteen   \n",
       "2                     West Bengal  ECE           C        Hostel Mess   \n",
       "3  The Government of NCT of Delhi  NaN      Python         Food Court   \n",
       "4                   Uttar Pradesh  NaN        Java     Hostel Canteen   \n",
       "\n",
       "      fav_club satisfied   cpi  \n",
       "0      Octaves        No  9.86  \n",
       "1        ml.ai        No     1  \n",
       "2     Robotics     Maybe   9.3  \n",
       "3  Coding Club     Maybe   7.5  \n",
       "4        ml.ai       Yes  8.83  "
      ]
     },
     "execution_count": 390,
     "metadata": {},
     "output_type": "execute_result"
    }
   ],
   "source": [
    "print(df.shape)\n",
    "df.head()"
   ]
  },
  {
   "cell_type": "code",
   "execution_count": 391,
   "metadata": {},
   "outputs": [
    {
     "name": "stdout",
     "output_type": "stream",
     "text": [
      "year\n",
      "2nd    162\n",
      "3rd     32\n",
      "4th     21\n",
      "1st      8\n",
      "Name: count, dtype: int64\n",
      " \n",
      "relationship\n",
      "Single               157\n",
      "In a relationship     41\n",
      "It's complicated      27\n",
      "Name: count, dtype: int64\n",
      " \n",
      "study\n",
      "Pulling of all nighters :)     123\n",
      "Studying on a regular basis    104\n",
      "Name: count, dtype: int64\n",
      " \n",
      "CP\n",
      "Yes    130\n",
      "No      97\n",
      "Name: count, dtype: int64\n",
      " \n",
      "hostel\n",
      "Disang         44\n",
      "Lohit          31\n",
      "Brahmaputra    23\n",
      "Barak          20\n",
      "Umiam          16\n",
      "Manas          14\n",
      "Bhramaputra    12\n",
      "Dhansiri       12\n",
      "Kameng         11\n",
      "Kapili         11\n",
      "Siang          10\n",
      "Dihing          8\n",
      "Subansiri       6\n",
      "Dibang          2\n",
      "Name: count, dtype: int64\n",
      " \n",
      "gender\n",
      "Man                  180\n",
      "Woman                 36\n",
      "Prefer not to say      5\n",
      "Non-binary             3\n",
      "Name: count, dtype: int64\n",
      " \n",
      "sport\n",
      "Cricket         27\n",
      "Badminton       20\n",
      "Badminton       15\n",
      "Football        13\n",
      "Cricket          9\n",
      "                ..\n",
      "LT               1\n",
      "Athletic         1\n",
      "No sport lol     1\n",
      "Nothing          1\n",
      "tt               1\n",
      "Name: count, Length: 64, dtype: int64\n",
      " \n",
      "hangout_spot\n",
      "IIT G lake (in front of library)    46\n",
      "New Sac                             36\n",
      "Hostel Canteen                      25\n",
      "Others                              24\n",
      "Khoka                               22\n",
      "Playgrounds                         21\n",
      "Serpentine Lake 😏                   18\n",
      "Food Court                          11\n",
      "Lake in front of the hospital        9\n",
      "Old Sac                              3\n",
      "Market Complex                       2\n",
      "Name: count, dtype: int64\n",
      " \n",
      "state\n",
      "Uttar Pradesh        30\n",
      "Maharashtra          30\n",
      "Bihar                21\n",
      "Rajasthan            15\n",
      "Madhya Pradesh       15\n",
      "                     ..\n",
      "Goa                   1\n",
      "Daman & Diu           1\n",
      "Chandigarh            1\n",
      "Tripura               1\n",
      "Arunachal Pradesh     1\n",
      "Name: count, Length: 28, dtype: int64\n",
      " \n",
      "dept\n",
      "CSE     58\n",
      "ECE     34\n",
      "ME      26\n",
      "EEE     22\n",
      "CST     18\n",
      "BSBE    13\n",
      "MnC     12\n",
      "CL       9\n",
      "Dsai     9\n",
      "CE       8\n",
      "EP       6\n",
      "HSS      1\n",
      "Name: count, dtype: int64\n",
      " \n",
      "coding_lang\n",
      "C++       141\n",
      "Python     41\n",
      "C          22\n",
      "Java        9\n",
      "Others      5\n",
      "Name: count, dtype: int64\n",
      " \n",
      "fav_place_to_eat\n",
      "Food Court                    56\n",
      "Khoka                         38\n",
      "Rolls Mania/Tacos             37\n",
      "Hostel Canteen                30\n",
      "Hostel Mess                   24\n",
      "Others                        11\n",
      "Core Canteen                   9\n",
      "Nonveg stalls near library     6\n",
      "Name: count, dtype: int64\n",
      " \n",
      "fav_club\n",
      "Coding Club              85\n",
      "E cell                   17\n",
      "Finance and Economics    10\n",
      "ml.ai                     9\n",
      "Cadence                   9\n",
      "                         ..\n",
      "Prakriti                  2\n",
      "4i labs                   1\n",
      "Whitespace                1\n",
      "Electronics Club          1\n",
      "Fine Arts club            1\n",
      "Name: count, Length: 25, dtype: int64\n",
      " \n",
      "satisfied\n",
      "Yes      126\n",
      "Maybe     68\n",
      "No        31\n",
      "Name: count, dtype: int64\n",
      " \n",
      "cpi\n",
      "7       9\n",
      "7.8     7\n",
      "7.9     7\n",
      "8.5     6\n",
      "8       5\n",
      "       ..\n",
      "7.94    1\n",
      "7.92    1\n",
      "7.91    1\n",
      "7.88    1\n",
      "😂😂😂😂    1\n",
      "Name: count, Length: 137, dtype: int64\n",
      " \n"
     ]
    }
   ],
   "source": [
    "small=df.columns.values\n",
    "for col in small:\n",
    "    print(df.value_counts(col))\n",
    "    print(' ')"
   ]
  },
  {
   "cell_type": "code",
   "execution_count": 392,
   "metadata": {},
   "outputs": [
    {
     "data": {
      "text/plain": [
       "year                 4\n",
       "relationship         2\n",
       "study                0\n",
       "CP                   0\n",
       "hostel               7\n",
       "gender               3\n",
       "sport               33\n",
       "hangout_spot        10\n",
       "state                9\n",
       "dept                11\n",
       "coding_lang          9\n",
       "fav_place_to_eat    16\n",
       "fav_club            14\n",
       "satisfied            2\n",
       "cpi                  1\n",
       "dtype: int64"
      ]
     },
     "execution_count": 392,
     "metadata": {},
     "output_type": "execute_result"
    }
   ],
   "source": [
    "df.isnull().sum()"
   ]
  },
  {
   "cell_type": "markdown",
   "metadata": {},
   "source": [
    "# Replacing entries with more workable values"
   ]
  },
  {
   "cell_type": "code",
   "execution_count": 393,
   "metadata": {},
   "outputs": [],
   "source": [
    "df['relationship'].replace('In a relationship', 'relationship', inplace=True)\n",
    "df['relationship'].replace(\"It's complicated\", 'complicated', inplace=True)\n",
    "df['relationship'].replace(\"Single\", 'single', inplace=True)"
   ]
  },
  {
   "cell_type": "code",
   "execution_count": 394,
   "metadata": {},
   "outputs": [],
   "source": [
    "df['year'].replace('1st', 1, inplace=True)\n",
    "df['year'].replace('2nd', 2, inplace=True)\n",
    "df['year'].replace('3rd', 3, inplace=True)\n",
    "df['year'].replace('4th', 4, inplace=True)"
   ]
  },
  {
   "cell_type": "code",
   "execution_count": 395,
   "metadata": {},
   "outputs": [],
   "source": [
    "df['study'].replace('Pulling of all nighters :)', 'all_nighter', inplace=True)\n",
    "df['study'].replace('Studying on a regular basis', 'regular', inplace=True)"
   ]
  },
  {
   "cell_type": "code",
   "execution_count": 396,
   "metadata": {},
   "outputs": [],
   "source": [
    "df['CP'].replace(\"Yes\", 1, inplace=True)\n",
    "df['CP'].replace(\"No\", 0, inplace=True)"
   ]
  },
  {
   "cell_type": "code",
   "execution_count": 397,
   "metadata": {},
   "outputs": [],
   "source": [
    "df['hangout_spot'].replace(\"IIT G lake (in front of library)\", \"IITG lake\", inplace=True)\n",
    "df['hangout_spot'].replace(\"Serpentine Lake 😏\", \"Serpentine\", inplace=True)\n",
    "df['hangout_spot'].replace(\"Lake in front of the hospital\", \"Tihor lake\", inplace=True)"
   ]
  },
  {
   "cell_type": "code",
   "execution_count": 398,
   "metadata": {},
   "outputs": [],
   "source": [
    "df['state'].replace(\"The Government of NCT of Delhi\", \"Delhi\", inplace=True)\n",
    "df['dept'].replace(\"Dsai\", \"DSAI\", inplace=True)\n",
    "df['gender'].replace(\"Prefer not to say\", np.nan, inplace=True)"
   ]
  },
  {
   "cell_type": "code",
   "execution_count": 399,
   "metadata": {},
   "outputs": [],
   "source": [
    "null_cpi = [\"😂😂😂😂\",\"noooooooooooo\",'1st year Student. So CPI \"0\"','1','Bruh','1107.87','-','Currently in 1st sem','na','4.07','69','0','100','I prefer not to say', '11', '11.97', '10']\n",
    "\n",
    "df['cpi'].replace(null_cpi, np.nan, inplace=True)\n",
    "df['cpi'].replace('Between 8 and 9', 8.5, inplace=True)\n",
    "df['cpi'].replace('8+', 8.1, inplace=True)\n",
    "df['cpi'].replace('7+🤣', 7.1, inplace=True)\n",
    "df['cpi'] = pd.to_numeric(df['cpi'])"
   ]
  },
  {
   "cell_type": "code",
   "execution_count": 400,
   "metadata": {},
   "outputs": [],
   "source": [
    "df['hostel'].replace(\"Bhramaputra\", \"Brahmaputra\", inplace=True)\n",
    "df['hostel'].replace(\"Dibang\", np.nan, inplace=True)"
   ]
  },
  {
   "cell_type": "code",
   "execution_count": 401,
   "metadata": {},
   "outputs": [],
   "source": [
    "df['fav_club'].replace('ml.ai', 'iitg.ai', inplace=True)"
   ]
  },
  {
   "cell_type": "code",
   "execution_count": 402,
   "metadata": {},
   "outputs": [
    {
     "name": "stdout",
     "output_type": "stream",
     "text": [
      "sport       \n",
      "Cricket         27\n",
      "Badminton       20\n",
      "Badminton       15\n",
      "Football        13\n",
      "Cricket          9\n",
      "                ..\n",
      "LT               1\n",
      "Athletic         1\n",
      "No sport lol     1\n",
      "Nothing          1\n",
      "tt               1\n",
      "Name: count, Length: 64, dtype: int64\n"
     ]
    }
   ],
   "source": [
    "print(df.value_counts(['sport']))"
   ]
  },
  {
   "cell_type": "code",
   "execution_count": 403,
   "metadata": {},
   "outputs": [],
   "source": [
    "null_sports = ['Sex', 'none','Nothing','Bro?','No sport lol','People Gazing','Na','Playing with my mental health','Coding','Genshin Impact', 'Barricade riding']\n",
    "tt=['tt', 'table tennis ','table tennis','Table Tennis', 'Table Tennis ', 'Table tennis', 'Table tennis ']\n",
    "df['sport'].replace(null_sports, np.nan, inplace=True)\n",
    "df['sport'].replace(tt, 'TT', inplace=True)\n",
    "df['sport'].replace('chess', 'Chess', inplace=True)\n",
    "df['sport'].replace(['LT', 'Tennis '], 'Tennis', inplace=True)\n",
    "df['sport'].replace(['GYMMING', 'GYMMING '], 'Gym', inplace=True)\n",
    "df['sport'].replace(['Athletic', 'Athletics ', 'Athletic ', 'Running'], 'Athletics', inplace=True)\n",
    "df['sport'].replace(['Cricket ', 'cricket', 'CRICKET', 'Bat-Ball'], 'Cricket', inplace=True)\n",
    "df['sport'].replace(['Badminton lol', 'Badminton ', 'badminton'], 'Badminton', inplace=True)\n",
    "df['sport'].replace(['Volleyball '], 'Volleyball', inplace=True)\n",
    "df['sport'].replace(['basketball', 'Basketball ', 'basketball '], 'Basketball', inplace=True)\n",
    "df['sport'].replace(['swimming ', 'Swimming ', 'swimming'], 'Swimming', inplace=True)\n",
    "df['sport'].replace(['futbol', 'Football '], 'Football', inplace=True)\n",
    "df['sport'].replace('Cricket, Football, Swimming, Tennis.', 'Cricket, Football, Swimming, Tennis', inplace=True)\n",
    "df['sport'].replace('Cricket,badminton', 'Cricket, Badminton', inplace=True)\n",
    "df['sport'].replace('Cricket,volleyball', 'Cricket, Volleyball', inplace=True)\n",
    "df['sport'].replace('Swimming and badminton', 'Swimming, Badminton', inplace=True)\n",
    "df['sport'].replace('to watch is cricket and basketball, to play is volleyball', 'Volleyball', inplace=True)"
   ]
  },
  {
   "cell_type": "code",
   "execution_count": 404,
   "metadata": {},
   "outputs": [
    {
     "name": "stdout",
     "output_type": "stream",
     "text": [
      "sport          \n",
      "Cricket            43\n",
      "Badminton          39\n",
      "TT                 18\n",
      "Football           18\n",
      "Swimming           17\n",
      "                   ..\n",
      "Figure Skating      1\n",
      "Drone racing        1\n",
      "Dodgeball           1\n",
      "Bike riding         1\n",
      "hockey              1\n",
      "Name: count, Length: 22, dtype: int64\n"
     ]
    }
   ],
   "source": [
    "# Creating seperate data frame to work with the sports column only\n",
    "sports_df = df['sport'].copy()\n",
    "sports_df = sports_df[:].str.split(', ', expand=True).stack()\n",
    "sports_df = sports_df.reset_index(level=1, drop=True).to_frame('sport')\n",
    "print(sports_df.value_counts())"
   ]
  },
  {
   "cell_type": "code",
   "execution_count": 405,
   "metadata": {},
   "outputs": [],
   "source": [
    "check2 = df.copy()"
   ]
  },
  {
   "cell_type": "code",
   "execution_count": 406,
   "metadata": {},
   "outputs": [],
   "source": [
    "df =check2.copy()"
   ]
  },
  {
   "cell_type": "markdown",
   "metadata": {},
   "source": [
    "## Dealing with null values"
   ]
  },
  {
   "cell_type": "code",
   "execution_count": 407,
   "metadata": {},
   "outputs": [
    {
     "data": {
      "text/plain": [
       "year                 4\n",
       "relationship         2\n",
       "study                0\n",
       "CP                   0\n",
       "hostel               9\n",
       "gender               8\n",
       "sport               45\n",
       "hangout_spot        10\n",
       "state                9\n",
       "dept                11\n",
       "coding_lang          9\n",
       "fav_place_to_eat    16\n",
       "fav_club            14\n",
       "satisfied            2\n",
       "cpi                 19\n",
       "dtype: int64"
      ]
     },
     "execution_count": 407,
     "metadata": {},
     "output_type": "execute_result"
    }
   ],
   "source": [
    "df.isnull().sum()"
   ]
  },
  {
   "cell_type": "markdown",
   "metadata": {},
   "source": [
    "### Replacing null cpi values with the median cpi by year except for first year"
   ]
  },
  {
   "cell_type": "code",
   "execution_count": 408,
   "metadata": {},
   "outputs": [
    {
     "data": {
      "text/html": [
       "<div>\n",
       "<style scoped>\n",
       "    .dataframe tbody tr th:only-of-type {\n",
       "        vertical-align: middle;\n",
       "    }\n",
       "\n",
       "    .dataframe tbody tr th {\n",
       "        vertical-align: top;\n",
       "    }\n",
       "\n",
       "    .dataframe thead th {\n",
       "        text-align: right;\n",
       "    }\n",
       "</style>\n",
       "<table border=\"1\" class=\"dataframe\">\n",
       "  <thead>\n",
       "    <tr style=\"text-align: right;\">\n",
       "      <th></th>\n",
       "      <th>year</th>\n",
       "      <th>relationship</th>\n",
       "      <th>study</th>\n",
       "      <th>CP</th>\n",
       "      <th>hostel</th>\n",
       "      <th>gender</th>\n",
       "      <th>sport</th>\n",
       "      <th>hangout_spot</th>\n",
       "      <th>state</th>\n",
       "      <th>dept</th>\n",
       "      <th>coding_lang</th>\n",
       "      <th>fav_place_to_eat</th>\n",
       "      <th>fav_club</th>\n",
       "      <th>satisfied</th>\n",
       "      <th>cpi</th>\n",
       "    </tr>\n",
       "  </thead>\n",
       "  <tbody>\n",
       "    <tr>\n",
       "      <th>1</th>\n",
       "      <td>3.0</td>\n",
       "      <td>single</td>\n",
       "      <td>regular</td>\n",
       "      <td>0</td>\n",
       "      <td>Manas</td>\n",
       "      <td>Man</td>\n",
       "      <td>Football</td>\n",
       "      <td>IITG lake</td>\n",
       "      <td>Uttar Pradesh</td>\n",
       "      <td>CST</td>\n",
       "      <td>Python</td>\n",
       "      <td>Hostel Canteen</td>\n",
       "      <td>iitg.ai</td>\n",
       "      <td>No</td>\n",
       "      <td>NaN</td>\n",
       "    </tr>\n",
       "    <tr>\n",
       "      <th>20</th>\n",
       "      <td>NaN</td>\n",
       "      <td>single</td>\n",
       "      <td>regular</td>\n",
       "      <td>1</td>\n",
       "      <td>Brahmaputra</td>\n",
       "      <td>Man</td>\n",
       "      <td>Football</td>\n",
       "      <td>Serpentine</td>\n",
       "      <td>West Bengal</td>\n",
       "      <td>NaN</td>\n",
       "      <td>C</td>\n",
       "      <td>Hostel Mess</td>\n",
       "      <td>Coding Club</td>\n",
       "      <td>Yes</td>\n",
       "      <td>NaN</td>\n",
       "    </tr>\n",
       "    <tr>\n",
       "      <th>27</th>\n",
       "      <td>2.0</td>\n",
       "      <td>single</td>\n",
       "      <td>all_nighter</td>\n",
       "      <td>0</td>\n",
       "      <td>Dhansiri</td>\n",
       "      <td>NaN</td>\n",
       "      <td>NaN</td>\n",
       "      <td>New Sac</td>\n",
       "      <td>Maharashtra</td>\n",
       "      <td>EEE</td>\n",
       "      <td>C++</td>\n",
       "      <td>Hostel Mess</td>\n",
       "      <td>Coding Club</td>\n",
       "      <td>Yes</td>\n",
       "      <td>NaN</td>\n",
       "    </tr>\n",
       "    <tr>\n",
       "      <th>44</th>\n",
       "      <td>2.0</td>\n",
       "      <td>complicated</td>\n",
       "      <td>all_nighter</td>\n",
       "      <td>0</td>\n",
       "      <td>Disang</td>\n",
       "      <td>Woman</td>\n",
       "      <td>Volleyball</td>\n",
       "      <td>IITG lake</td>\n",
       "      <td>Andhra Pradesh</td>\n",
       "      <td>CSE</td>\n",
       "      <td>C</td>\n",
       "      <td>Others</td>\n",
       "      <td>NaN</td>\n",
       "      <td>Maybe</td>\n",
       "      <td>NaN</td>\n",
       "    </tr>\n",
       "    <tr>\n",
       "      <th>59</th>\n",
       "      <td>2.0</td>\n",
       "      <td>single</td>\n",
       "      <td>all_nighter</td>\n",
       "      <td>1</td>\n",
       "      <td>Brahmaputra</td>\n",
       "      <td>Man</td>\n",
       "      <td>NaN</td>\n",
       "      <td>New Sac</td>\n",
       "      <td>Rajasthan</td>\n",
       "      <td>NaN</td>\n",
       "      <td>C++</td>\n",
       "      <td>Khoka</td>\n",
       "      <td>iitg.ai</td>\n",
       "      <td>Maybe</td>\n",
       "      <td>NaN</td>\n",
       "    </tr>\n",
       "    <tr>\n",
       "      <th>65</th>\n",
       "      <td>2.0</td>\n",
       "      <td>relationship</td>\n",
       "      <td>all_nighter</td>\n",
       "      <td>1</td>\n",
       "      <td>Lohit</td>\n",
       "      <td>Man</td>\n",
       "      <td>Handball</td>\n",
       "      <td>Market Complex</td>\n",
       "      <td>Gujarat</td>\n",
       "      <td>CSE</td>\n",
       "      <td>C++</td>\n",
       "      <td>Food Court</td>\n",
       "      <td>E cell</td>\n",
       "      <td>Yes</td>\n",
       "      <td>NaN</td>\n",
       "    </tr>\n",
       "    <tr>\n",
       "      <th>66</th>\n",
       "      <td>4.0</td>\n",
       "      <td>complicated</td>\n",
       "      <td>regular</td>\n",
       "      <td>0</td>\n",
       "      <td>Kameng</td>\n",
       "      <td>Non-binary</td>\n",
       "      <td>NaN</td>\n",
       "      <td>Playgrounds</td>\n",
       "      <td>Andaman and Nicobar Islands</td>\n",
       "      <td>HSS</td>\n",
       "      <td>Python</td>\n",
       "      <td>Hostel Mess</td>\n",
       "      <td>Palates</td>\n",
       "      <td>No</td>\n",
       "      <td>NaN</td>\n",
       "    </tr>\n",
       "    <tr>\n",
       "      <th>101</th>\n",
       "      <td>2.0</td>\n",
       "      <td>complicated</td>\n",
       "      <td>all_nighter</td>\n",
       "      <td>1</td>\n",
       "      <td>Umiam</td>\n",
       "      <td>Man</td>\n",
       "      <td>Swimming</td>\n",
       "      <td>Playgrounds</td>\n",
       "      <td>Maharashtra</td>\n",
       "      <td>ME</td>\n",
       "      <td>C++</td>\n",
       "      <td>Hostel Mess</td>\n",
       "      <td>Consulting and Analytics</td>\n",
       "      <td>Maybe</td>\n",
       "      <td>NaN</td>\n",
       "    </tr>\n",
       "    <tr>\n",
       "      <th>125</th>\n",
       "      <td>2.0</td>\n",
       "      <td>complicated</td>\n",
       "      <td>all_nighter</td>\n",
       "      <td>1</td>\n",
       "      <td>Subansiri</td>\n",
       "      <td>Non-binary</td>\n",
       "      <td>NaN</td>\n",
       "      <td>Serpentine</td>\n",
       "      <td>Haryana</td>\n",
       "      <td>CE</td>\n",
       "      <td>C++</td>\n",
       "      <td>NaN</td>\n",
       "      <td>Consulting and Analytics</td>\n",
       "      <td>Maybe</td>\n",
       "      <td>NaN</td>\n",
       "    </tr>\n",
       "    <tr>\n",
       "      <th>132</th>\n",
       "      <td>3.0</td>\n",
       "      <td>complicated</td>\n",
       "      <td>all_nighter</td>\n",
       "      <td>0</td>\n",
       "      <td>Dhansiri</td>\n",
       "      <td>NaN</td>\n",
       "      <td>Bike riding</td>\n",
       "      <td>Serpentine</td>\n",
       "      <td>Arunachal Pradesh</td>\n",
       "      <td>CSE</td>\n",
       "      <td>Java</td>\n",
       "      <td>Hostel Mess</td>\n",
       "      <td>Prakriti</td>\n",
       "      <td>No</td>\n",
       "      <td>NaN</td>\n",
       "    </tr>\n",
       "    <tr>\n",
       "      <th>139</th>\n",
       "      <td>4.0</td>\n",
       "      <td>relationship</td>\n",
       "      <td>regular</td>\n",
       "      <td>1</td>\n",
       "      <td>Subansiri</td>\n",
       "      <td>Non-binary</td>\n",
       "      <td>NaN</td>\n",
       "      <td>Tihor lake</td>\n",
       "      <td>Puducherry</td>\n",
       "      <td>BSBE</td>\n",
       "      <td>C++</td>\n",
       "      <td>Rolls Mania/Tacos</td>\n",
       "      <td>Palates</td>\n",
       "      <td>No</td>\n",
       "      <td>NaN</td>\n",
       "    </tr>\n",
       "    <tr>\n",
       "      <th>161</th>\n",
       "      <td>2.0</td>\n",
       "      <td>relationship</td>\n",
       "      <td>regular</td>\n",
       "      <td>1</td>\n",
       "      <td>Umiam</td>\n",
       "      <td>Man</td>\n",
       "      <td>Football</td>\n",
       "      <td>IITG lake</td>\n",
       "      <td>Karnataka</td>\n",
       "      <td>EP</td>\n",
       "      <td>Python</td>\n",
       "      <td>Core Canteen</td>\n",
       "      <td>Equinox</td>\n",
       "      <td>Maybe</td>\n",
       "      <td>NaN</td>\n",
       "    </tr>\n",
       "    <tr>\n",
       "      <th>187</th>\n",
       "      <td>4.0</td>\n",
       "      <td>single</td>\n",
       "      <td>regular</td>\n",
       "      <td>1</td>\n",
       "      <td>Dihing</td>\n",
       "      <td>Man</td>\n",
       "      <td>Badminton</td>\n",
       "      <td>Khoka</td>\n",
       "      <td>Bihar</td>\n",
       "      <td>CST</td>\n",
       "      <td>C++</td>\n",
       "      <td>Others</td>\n",
       "      <td>NaN</td>\n",
       "      <td>Maybe</td>\n",
       "      <td>NaN</td>\n",
       "    </tr>\n",
       "    <tr>\n",
       "      <th>191</th>\n",
       "      <td>2.0</td>\n",
       "      <td>single</td>\n",
       "      <td>regular</td>\n",
       "      <td>1</td>\n",
       "      <td>Lohit</td>\n",
       "      <td>Man</td>\n",
       "      <td>NaN</td>\n",
       "      <td>Serpentine</td>\n",
       "      <td>Uttar Pradesh</td>\n",
       "      <td>CSE</td>\n",
       "      <td>Java</td>\n",
       "      <td>NaN</td>\n",
       "      <td>Coding Club</td>\n",
       "      <td>No</td>\n",
       "      <td>NaN</td>\n",
       "    </tr>\n",
       "    <tr>\n",
       "      <th>210</th>\n",
       "      <td>4.0</td>\n",
       "      <td>complicated</td>\n",
       "      <td>all_nighter</td>\n",
       "      <td>0</td>\n",
       "      <td>Dihing</td>\n",
       "      <td>Man</td>\n",
       "      <td>Squash</td>\n",
       "      <td>Khoka</td>\n",
       "      <td>Kerala</td>\n",
       "      <td>ME</td>\n",
       "      <td>Others</td>\n",
       "      <td>Khoka</td>\n",
       "      <td>Cadence</td>\n",
       "      <td>Yes</td>\n",
       "      <td>NaN</td>\n",
       "    </tr>\n",
       "  </tbody>\n",
       "</table>\n",
       "</div>"
      ],
      "text/plain": [
       "     year  relationship        study  CP       hostel      gender  \\\n",
       "1     3.0        single      regular   0        Manas         Man   \n",
       "20    NaN        single      regular   1  Brahmaputra         Man   \n",
       "27    2.0        single  all_nighter   0     Dhansiri         NaN   \n",
       "44    2.0   complicated  all_nighter   0       Disang       Woman   \n",
       "59    2.0        single  all_nighter   1  Brahmaputra         Man   \n",
       "65    2.0  relationship  all_nighter   1        Lohit         Man   \n",
       "66    4.0   complicated      regular   0       Kameng  Non-binary   \n",
       "101   2.0   complicated  all_nighter   1        Umiam         Man   \n",
       "125   2.0   complicated  all_nighter   1    Subansiri  Non-binary   \n",
       "132   3.0   complicated  all_nighter   0     Dhansiri         NaN   \n",
       "139   4.0  relationship      regular   1    Subansiri  Non-binary   \n",
       "161   2.0  relationship      regular   1        Umiam         Man   \n",
       "187   4.0        single      regular   1       Dihing         Man   \n",
       "191   2.0        single      regular   1        Lohit         Man   \n",
       "210   4.0   complicated  all_nighter   0       Dihing         Man   \n",
       "\n",
       "           sport    hangout_spot                        state  dept  \\\n",
       "1       Football       IITG lake                Uttar Pradesh   CST   \n",
       "20      Football      Serpentine                  West Bengal   NaN   \n",
       "27           NaN         New Sac                  Maharashtra   EEE   \n",
       "44    Volleyball       IITG lake               Andhra Pradesh   CSE   \n",
       "59           NaN         New Sac                    Rajasthan   NaN   \n",
       "65      Handball  Market Complex                      Gujarat   CSE   \n",
       "66           NaN     Playgrounds  Andaman and Nicobar Islands   HSS   \n",
       "101     Swimming     Playgrounds                  Maharashtra    ME   \n",
       "125          NaN      Serpentine                      Haryana    CE   \n",
       "132  Bike riding      Serpentine            Arunachal Pradesh   CSE   \n",
       "139          NaN      Tihor lake                   Puducherry  BSBE   \n",
       "161     Football       IITG lake                    Karnataka    EP   \n",
       "187    Badminton           Khoka                        Bihar   CST   \n",
       "191          NaN      Serpentine                Uttar Pradesh   CSE   \n",
       "210       Squash           Khoka                       Kerala    ME   \n",
       "\n",
       "    coding_lang   fav_place_to_eat                  fav_club satisfied  cpi  \n",
       "1        Python     Hostel Canteen                   iitg.ai        No  NaN  \n",
       "20            C        Hostel Mess               Coding Club       Yes  NaN  \n",
       "27          C++        Hostel Mess               Coding Club       Yes  NaN  \n",
       "44            C             Others                       NaN     Maybe  NaN  \n",
       "59          C++              Khoka                   iitg.ai     Maybe  NaN  \n",
       "65          C++         Food Court                    E cell       Yes  NaN  \n",
       "66       Python        Hostel Mess                   Palates        No  NaN  \n",
       "101         C++        Hostel Mess  Consulting and Analytics     Maybe  NaN  \n",
       "125         C++                NaN  Consulting and Analytics     Maybe  NaN  \n",
       "132        Java        Hostel Mess                  Prakriti        No  NaN  \n",
       "139         C++  Rolls Mania/Tacos                   Palates        No  NaN  \n",
       "161      Python       Core Canteen                   Equinox     Maybe  NaN  \n",
       "187         C++             Others                       NaN     Maybe  NaN  \n",
       "191        Java                NaN               Coding Club        No  NaN  \n",
       "210      Others              Khoka                   Cadence       Yes  NaN  "
      ]
     },
     "execution_count": 408,
     "metadata": {},
     "output_type": "execute_result"
    }
   ],
   "source": [
    "df[(df['cpi'].isnull()) & (df['year']!=1)]"
   ]
  },
  {
   "cell_type": "code",
   "execution_count": 409,
   "metadata": {},
   "outputs": [],
   "source": [
    "def fill_null(df, column, years):\n",
    "    for year in years:\n",
    "        median = df.loc[df['year'] == year, column].median()\n",
    "        df.loc[(df['year'] == year) & (df[column].isnull()), column] = median\n",
    "    return df\n",
    "df = fill_null(df, 'cpi', [2,3,4])"
   ]
  },
  {
   "cell_type": "code",
   "execution_count": 410,
   "metadata": {},
   "outputs": [],
   "source": [
    "median = df['cpi'].median()\n",
    "df.loc[(df['year'].isnull()) & (df['cpi'].isnull()), 'cpi'] = median"
   ]
  },
  {
   "cell_type": "code",
   "execution_count": 411,
   "metadata": {},
   "outputs": [],
   "source": [
    "check3 = df.copy()"
   ]
  },
  {
   "cell_type": "code",
   "execution_count": 412,
   "metadata": {},
   "outputs": [],
   "source": [
    "df =check3.copy()"
   ]
  },
  {
   "cell_type": "markdown",
   "metadata": {},
   "source": [
    "# Exploratory Data Ananlysis (EDA)"
   ]
  },
  {
   "cell_type": "markdown",
   "metadata": {},
   "source": [
    "We will be looking at some questions, not already mentioned in the reference notebook"
   ]
  },
  {
   "cell_type": "markdown",
   "metadata": {},
   "source": [
    "# Analysing Competitive Programming Scene"
   ]
  },
  {
   "cell_type": "markdown",
   "metadata": {},
   "source": [
    "### What is the favourite programming language of competitive programmers throughout the years?"
   ]
  },
  {
   "cell_type": "code",
   "execution_count": 413,
   "metadata": {},
   "outputs": [
    {
     "data": {
      "image/png": "[encoded data removed]",
      "text/plain": [
       "<Figure size 1000x1600 with 4 Axes>"
      ]
     },
     "metadata": {},
     "output_type": "display_data"
    }
   ],
   "source": [
    "plt.figure(figsize=(10,16))\n",
    "    \n",
    "plt.subplot(4,1,1)\n",
    "plt.title('2nd Year')\n",
    "sns.barplot(x=df[df['year'] == 2]['coding_lang'].value_counts().values, y=df[df['year'] == 2]['coding_lang'].value_counts().keys(), orient='h')\n",
    "plt.ylabel('Preferred Coding Language')\n",
    "\n",
    "plt.subplot(4,1,2)\n",
    "plt.title('3rd Year')\n",
    "sns.barplot(x=df[df['year'] == 3]['coding_lang'].value_counts().values, y=df[df['year'] == 3]['coding_lang'].value_counts().keys(), orient='h')\n",
    "plt.ylabel('Preferred Coding Language')\n",
    "\n",
    "plt.subplot(4,1,3)\n",
    "plt.title('4th Year')\n",
    "sns.barplot(x=df[df['year'] == 4]['coding_lang'].value_counts().values, y=df[df['year'] == 4]['coding_lang'].value_counts().keys(), orient='h')\n",
    "plt.ylabel('Preferred Coding Language')\n",
    "\n",
    "plt.subplot(4,1,4)\n",
    "plt.title('Overall')\n",
    "sns.barplot(x=df['coding_lang'].value_counts().values, y=df['coding_lang'].value_counts().keys(), orient='h')\n",
    "plt.ylabel('Preferred Coding Language')\n",
    "\n",
    "plt.show()\n",
    "\n"
   ]
  },
  {
   "cell_type": "markdown",
   "metadata": {},
   "source": [
    "Some observations:-\n",
    "* C++ seems to be the preferred language throughout the years for competitive programmers.\n",
    "* Java and C lose their popularity among the higher year competitive programmers."
   ]
  },
  {
   "cell_type": "markdown",
   "metadata": {},
   "source": [
    "### Are our coders single?"
   ]
  },
  {
   "cell_type": "code",
   "execution_count": 414,
   "metadata": {},
   "outputs": [
    {
     "data": {
      "image/png": "[encoded data removed]",
      "text/plain": [
       "<Figure size 900x1000 with 4 Axes>"
      ]
     },
     "metadata": {},
     "output_type": "display_data"
    }
   ],
   "source": [
    "plt.figure(figsize=(9,10))\n",
    "\n",
    "plt.subplot(2,2,1)\n",
    "plt.title('Overall')\n",
    "sns.countplot(data=df[df['CP'] == 1], x='relationship', palette={'relationship': 'blue', 'single': 'red', 'complicated': 'orange'})\n",
    "plt.xlabel('Relationship Status')\n",
    "\n",
    "plt.subplot(2,2,2)\n",
    "plt.title('2nd Year')\n",
    "sns.countplot(data=df[(df['CP'] == 1) & (df['year']==2)], x='relationship', palette={'relationship': 'blue', 'single': 'red', 'complicated': 'orange'})\n",
    "plt.xlabel('Relationship Status')\n",
    "\n",
    "plt.subplot(2,2,3)\n",
    "plt.title('3rd Year')\n",
    "sns.countplot(data=df[(df['CP'] == 1) & (df['year']==3)], x='relationship', palette={'relationship': 'blue', 'single': 'red', 'complicated': 'orange'})\n",
    "plt.xlabel('Relationship Status')\n",
    "\n",
    "plt.subplot(2,2,4)\n",
    "plt.title('4th Year')\n",
    "sns.countplot(data=df[(df['CP'] == 1) & (df['year']==4)], x='relationship', palette={'relationship': 'blue', 'single': 'red', 'complicated': 'orange'})\n",
    "plt.xlabel('Relationship Status')\n",
    "\n",
    "plt.show()"
   ]
  },
  {
   "cell_type": "markdown",
   "metadata": {},
   "source": [
    "Observations:-\n",
    "* As expected, most of our competitive programmers are single.\n",
    "* But those who are in a relationship can be found in 2nd and 4th years.\n",
    "* The competitive programmers are not getting into complicated relations as the years increase"
   ]
  },
  {
   "cell_type": "markdown",
   "metadata": {},
   "source": [
    "### How does department affect satisfaction?"
   ]
  },
  {
   "cell_type": "code",
   "execution_count": 415,
   "metadata": {},
   "outputs": [
    {
     "data": {
      "image/png": "[encoded data removed]",
      "text/plain": [
       "<Figure size 640x480 with 1 Axes>"
      ]
     },
     "metadata": {},
     "output_type": "display_data"
    }
   ],
   "source": [
    "pivot = df.pivot_table(index='dept', columns='satisfied', aggfunc='size', fill_value=0)\n",
    "\n",
    "# making it a density graph instead of a count graph for better analysis\n",
    "pivot = pivot.div(pivot.sum(axis=1), axis=0)\n",
    "pivot = pivot[['Yes', 'Maybe','No']]\n",
    "pivot = pivot.sort_values(by='Yes')\n",
    "\n",
    "pivot.plot(kind='bar', stacked=True, color=['green','blue','red'])\n",
    "plt.xlabel('Department')\n",
    "plt.ylabel('Density')\n",
    "plt.title('Satisfaction across the departments')\n",
    "plt.legend(title='Satisfaction')\n",
    "\n",
    "plt.axhline(y=0.5, color='black', linestyle='--')\n",
    "plt.show()"
   ]
  },
  {
   "cell_type": "markdown",
   "metadata": {},
   "source": [
    "We will not consider HSS here as it an outlier, or someone trying to be funny.\n",
    "Observations:-\n",
    "* Most of the branches are mostly satisfied with exceptions of DSAI and  EP.\n",
    "* Most dissatisfaction is seen in CST and then Chemical.\n",
    "* MnC shows the most satisfaction, even though the course is considered very hard.\n",
    "* CSE, suprisingly, comes at about average satisfaction.\n",
    "* No one is purely dissatisfied among the people in Civil and DSAI."
   ]
  },
  {
   "cell_type": "markdown",
   "metadata": {},
   "source": [
    "### Does satisfaction affect CPI?"
   ]
  },
  {
   "cell_type": "code",
   "execution_count": 416,
   "metadata": {},
   "outputs": [
    {
     "name": "stdout",
     "output_type": "stream",
     "text": [
      "Satisfaction among students:\n",
      "satisfied\n",
      "Yes      126\n",
      "Maybe     68\n",
      "No        31\n",
      "NaN        2\n",
      "Name: count, dtype: int64\n"
     ]
    },
    {
     "data": {
      "image/png": "[encoded data removed]",
      "text/plain": [
       "<Figure size 1000x600 with 1 Axes>"
      ]
     },
     "metadata": {},
     "output_type": "display_data"
    }
   ],
   "source": [
    "print('Satisfaction among students:')\n",
    "print(df['satisfied'].value_counts(dropna=False))\n",
    "\n",
    "plt.figure(figsize=(10,6))\n",
    "\n",
    "sns.kdeplot(df[df['satisfied'] == 'Yes']['cpi'], color='blue')\n",
    "sns.kdeplot(df[df['satisfied'] == 'Maybe']['cpi'], color='orange')\n",
    "sns.kdeplot(df[df['satisfied'] == 'No']['cpi'], color='red')\n",
    "plt.legend(labels=['Satisfied', 'Neutral', 'Dissatisfied'])\n",
    "\n",
    "plt.show()"
   ]
  },
  {
   "cell_type": "markdown",
   "metadata": {},
   "source": [
    "Observations:\n",
    "\n",
    "* Satisfaction doesn't really affect the CPI of students, with the peak lying just above 8.\n",
    "* However, there is a wierd bump in the high 9.3 region among those dissatisfied by IITG\n",
    "* Those satisfied with IITG have a much distributed graph than the others."
   ]
  },
  {
   "cell_type": "markdown",
   "metadata": {},
   "source": [
    "### What are the most popular sports in IITG?"
   ]
  },
  {
   "cell_type": "code",
   "execution_count": 417,
   "metadata": {},
   "outputs": [
    {
     "data": {
      "image/png": "[encoded data removed]",
      "text/plain": [
       "<Figure size 640x480 with 1 Axes>"
      ]
     },
     "metadata": {},
     "output_type": "display_data"
    }
   ],
   "source": [
    "sns.countplot(x='sport', data=sports_df, color='blue', order=sports_df['sport'].value_counts().index)\n",
    "plt.xticks(rotation=90)\n",
    "plt.show()"
   ]
  },
  {
   "cell_type": "markdown",
   "metadata": {},
   "source": [
    "Observations:\n",
    "\n",
    "* Obviously, being in India, Cricket is the most popular sport in IITG.\n",
    "* However, badminton comes in close second, mostly due to the availibility of multiple courts.\n",
    "* TT is also quite popular due to their being a TT table in mostly all hostel.\n",
    "* Most of the sports having more than one count have good facilities and exposure provided by IITG, exceptions being Squash, Archery, and Hockey."
   ]
  },
  {
   "cell_type": "markdown",
   "metadata": {},
   "source": [
    "### Does satisfaction have anything to do with gender?"
   ]
  },
  {
   "cell_type": "code",
   "execution_count": 418,
   "metadata": {},
   "outputs": [
    {
     "name": "stdout",
     "output_type": "stream",
     "text": [
      "How satisfied different genders are in IITG\n"
     ]
    },
    {
     "data": {
      "image/png": "[encoded data removed]",
      "text/plain": [
       "<Figure size 600x700 with 4 Axes>"
      ]
     },
     "metadata": {},
     "output_type": "display_data"
    }
   ],
   "source": [
    "print('How satisfied different genders are in IITG')\n",
    "plt.figure(figsize=(6,7))\n",
    "\n",
    "plt.subplot(2,2,1)\n",
    "plt.title('Male')\n",
    "plt.pie(df[df['gender'] == 'Man']['satisfied'].value_counts(), autopct='%.0f%%')\n",
    "plt.legend(labels=['Yes', 'Maybe', 'No'])\n",
    "\n",
    "\n",
    "plt.subplot(2,2,2)\n",
    "plt.title('Female')\n",
    "plt.pie(df[df['gender'] == 'Woman']['satisfied'].value_counts(), autopct='%.0f%%')\n",
    "# plt.legend(labels=['Yes', 'Maybe', 'No'])\n",
    "\n",
    "plt.subplot(2,2,3)\n",
    "plt.title('Non-binary')\n",
    "plt.pie(df[df['gender'] == 'Non-binary']['satisfied'].value_counts(), autopct='%.0f%%')\n",
    "# plt.legend(labels=['Yes', 'Maybe', 'No'])\n",
    "\n",
    "plt.subplot(2,2,4)\n",
    "plt.title('Prefer not to say')\n",
    "plt.pie(df[df['gender'].isnull()]['satisfied'].value_counts(), autopct='%.0f%%')\n",
    "# plt.legend(labels=['Yes', 'Maybe', 'No'])\n",
    "\n",
    "plt.show()"
   ]
  },
  {
   "cell_type": "markdown",
   "metadata": {},
   "source": [
    "Observation:-\n",
    "\n",
    "* An average male in IITG is satisfied.\n",
    "* However, the females of IITG are not satisfied.\n",
    "* Even though pure dissatisfaction is almost equal among Male and Female, there are more women that are undecisive on their satisfaction.\n",
    "* The non-binary folks at IITG are mostly satisfied by IITG.\n",
    "* The people who do not prefer to say are more satisfied than they are dissatisfied\n",
    "\n",
    "These satisfaction rates are good for IITG. However, they need to work on student satisfaction more as it is ultimately the students that make the institute."
   ]
  }
 ],
 "metadata": {
  "kernelspec": {
   "display_name": ".venv",
   "language": "python",
   "name": "python3"
  },
  "language_info": {
   "codemirror_mode": {
    "name": "ipython",
    "version": 3
   },
   "file_extension": ".py",
   "mimetype": "text/x-python",
   "name": "python",
   "nbconvert_exporter": "python",
   "pygments_lexer": "ipython3",
   "version": "3.12.3"
  }
 },
 "nbformat": 4,
 "nbformat_minor": 2
}
